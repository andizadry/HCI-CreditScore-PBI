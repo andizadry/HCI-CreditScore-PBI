{
 "cells": [
  {
   "cell_type": "code",
   "execution_count": 1,
   "metadata": {},
   "outputs": [
    {
     "name": "stdout",
     "output_type": "stream",
     "text": [
      " Volume in drive H is HDD B\n",
      " Volume Serial Number is 5E83-6EAA\n",
      "\n",
      " Directory of h:\\Project\\HCI-CreditScore-PBI\n",
      "\n",
      "02/09/2023  00:56    <DIR>          .\n",
      "02/09/2023  01:22    <DIR>          ..\n",
      "02/09/2023  00:56            95.786 Dataset_Description__Task_5-2a9c29ec-455a-450e-a631-8782e792b88d.pdf\n",
      "02/09/2023  01:28               706 HCI_CreditScore.ipynb\n",
      "02/09/2023  00:56           713.984 Pedoman_Pembuatan_PPT__Task_5__HCI-386c286f-2554-4d1c-8b93-72634b2babbd.pdf\n",
      "02/09/2023  00:56                21 README.md\n",
      "               4 File(s)        810.497 bytes\n",
      "               2 Dir(s)  37.782.466.560 bytes free\n"
     ]
    }
   ],
   "source": [
    "ls"
   ]
  }
 ],
 "metadata": {
  "kernelspec": {
   "display_name": "Python 3",
   "language": "python",
   "name": "python3"
  },
  "language_info": {
   "codemirror_mode": {
    "name": "ipython",
    "version": 3
   },
   "file_extension": ".py",
   "mimetype": "text/x-python",
   "name": "python",
   "nbconvert_exporter": "python",
   "pygments_lexer": "ipython3",
   "version": "3.10.7"
  },
  "orig_nbformat": 4
 },
 "nbformat": 4,
 "nbformat_minor": 2
}
